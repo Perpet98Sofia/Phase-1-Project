{
 "cells": [
  {
   "cell_type": "markdown",
   "metadata": {},
   "source": [
    "# Aviation Accidents Python Analysis\n",
    "## Project Goal\n",
    "My project aims to determine whether the aviation business would be a good new venture for the company.\n",
    "## Data Source\n",
    "My data comes from [kaggle](https://www.kaggle.com/datasets/khsamaha/aviation-accident-database-synopses/data) by the NTSB aviation accident database containing information about civil aviation accidents and selected incidents within the United States and some countries."
   ]
  },
  {
   "cell_type": "code",
   "execution_count": 2,
   "metadata": {},
   "outputs": [],
   "source": [
    "# Import data analysis libraries\n",
    "import pandas as pd\n",
    "import numpy as np\n",
    "from matplotlib import pyplot as plt\n",
    "from numbers import Number\n",
    "import seaborn as sns\n",
    "\n",
    "from warnings import filterwarnings\n",
    "filterwarnings(\"ignore\")"
   ]
  },
  {
   "cell_type": "markdown",
   "metadata": {},
   "source": [
    "## Read AviationData.csv.zip into a pandas DataFrame \n",
    "   I used pandas to create the DataFrame named `df`, containing the data from the dataset in file AviationData.csv.zip."
   ]
  },
  {
   "cell_type": "code",
   "execution_count": 4,
   "metadata": {},
   "outputs": [
    {
     "name": "stdout",
     "output_type": "stream",
     "text": [
      "         Event.Id Investigation.Type Accident.Number  Event.Date  \\\n",
      "0  20001218X45444           Accident      SEA87LA080  1948-10-24   \n",
      "1  20001218X45447           Accident      LAX94LA336  1962-07-19   \n",
      "2  20061025X01555           Accident      NYC07LA005  1974-08-30   \n",
      "3  20001218X45448           Accident      LAX96LA321  1977-06-19   \n",
      "4  20041105X01764           Accident      CHI79FA064  1979-08-02   \n",
      "\n",
      "          Location        Country Latitude Longitude Airport.Code  \\\n",
      "0  MOOSE CREEK, ID  United States      NaN       NaN          NaN   \n",
      "1   BRIDGEPORT, CA  United States      NaN       NaN          NaN   \n",
      "2    Saltville, VA  United States  36.9222  -81.8781          NaN   \n",
      "3       EUREKA, CA  United States      NaN       NaN          NaN   \n",
      "4       Canton, OH  United States      NaN       NaN          NaN   \n",
      "\n",
      "  Airport.Name  ... Purpose.of.flight Air.carrier Total.Fatal.Injuries  \\\n",
      "0          NaN  ...          Personal         NaN                  2.0   \n",
      "1          NaN  ...          Personal         NaN                  4.0   \n",
      "2          NaN  ...          Personal         NaN                  3.0   \n",
      "3          NaN  ...          Personal         NaN                  2.0   \n",
      "4          NaN  ...          Personal         NaN                  1.0   \n",
      "\n",
      "  Total.Serious.Injuries Total.Minor.Injuries Total.Uninjured  \\\n",
      "0                    0.0                  0.0             0.0   \n",
      "1                    0.0                  0.0             0.0   \n",
      "2                    NaN                  NaN             NaN   \n",
      "3                    0.0                  0.0             0.0   \n",
      "4                    2.0                  NaN             0.0   \n",
      "\n",
      "  Weather.Condition  Broad.phase.of.flight   Report.Status Publication.Date  \n",
      "0               UNK                 Cruise  Probable Cause              NaN  \n",
      "1               UNK                Unknown  Probable Cause       19-09-1996  \n",
      "2               IMC                 Cruise  Probable Cause       26-02-2007  \n",
      "3               IMC                 Cruise  Probable Cause       12-09-2000  \n",
      "4               VMC               Approach  Probable Cause       16-04-1980  \n",
      "\n",
      "[5 rows x 31 columns]\n"
     ]
    }
   ],
   "source": [
    "#Read dataset\n",
    "df = pd.read_csv('./AviationData.csv.zip', encoding = 'latin1')\n",
    "print(df.head())\n",
    "assert type(df) == pd.DataFrame"
   ]
  },
  {
   "cell_type": "code",
   "execution_count": 7,
   "metadata": {},
   "outputs": [
    {
     "name": "stdout",
     "output_type": "stream",
     "text": [
      "<class 'pandas.core.frame.DataFrame'>\n",
      "RangeIndex: 88889 entries, 0 to 88888\n",
      "Data columns (total 31 columns):\n",
      " #   Column                  Non-Null Count  Dtype  \n",
      "---  ------                  --------------  -----  \n",
      " 0   Event.Id                88889 non-null  object \n",
      " 1   Investigation.Type      88889 non-null  object \n",
      " 2   Accident.Number         88889 non-null  object \n",
      " 3   Event.Date              88889 non-null  object \n",
      " 4   Location                88837 non-null  object \n",
      " 5   Country                 88663 non-null  object \n",
      " 6   Latitude                34382 non-null  object \n",
      " 7   Longitude               34373 non-null  object \n",
      " 8   Airport.Code            50249 non-null  object \n",
      " 9   Airport.Name            52790 non-null  object \n",
      " 10  Injury.Severity         87889 non-null  object \n",
      " 11  Aircraft.damage         85695 non-null  object \n",
      " 12  Aircraft.Category       32287 non-null  object \n",
      " 13  Registration.Number     87572 non-null  object \n",
      " 14  Make                    88826 non-null  object \n",
      " 15  Model                   88797 non-null  object \n",
      " 16  Amateur.Built           88787 non-null  object \n",
      " 17  Number.of.Engines       82805 non-null  float64\n",
      " 18  Engine.Type             81812 non-null  object \n",
      " 19  FAR.Description         32023 non-null  object \n",
      " 20  Schedule                12582 non-null  object \n",
      " 21  Purpose.of.flight       82697 non-null  object \n",
      " 22  Air.carrier             16648 non-null  object \n",
      " 23  Total.Fatal.Injuries    77488 non-null  float64\n",
      " 24  Total.Serious.Injuries  76379 non-null  float64\n",
      " 25  Total.Minor.Injuries    76956 non-null  float64\n",
      " 26  Total.Uninjured         82977 non-null  float64\n",
      " 27  Weather.Condition       84397 non-null  object \n",
      " 28  Broad.phase.of.flight   61724 non-null  object \n",
      " 29  Report.Status           82508 non-null  object \n",
      " 30  Publication.Date        75118 non-null  object \n",
      "dtypes: float64(5), object(26)\n",
      "memory usage: 21.0+ MB\n",
      "None\n",
      "(88889, 31)\n"
     ]
    }
   ],
   "source": [
    "# Checking dataset information and shape\n",
    "print(df.info())\n",
    "print(df.shape)"
   ]
  },
  {
   "cell_type": "markdown",
   "metadata": {},
   "source": [
    "##"
   ]
  }
 ],
 "metadata": {
  "kernelspec": {
   "display_name": "Python (learn-env)",
   "language": "python",
   "name": "learn-env"
  },
  "language_info": {
   "codemirror_mode": {
    "name": "ipython",
    "version": 3
   },
   "file_extension": ".py",
   "mimetype": "text/x-python",
   "name": "python",
   "nbconvert_exporter": "python",
   "pygments_lexer": "ipython3",
   "version": "3.8.5"
  }
 },
 "nbformat": 4,
 "nbformat_minor": 4
}
