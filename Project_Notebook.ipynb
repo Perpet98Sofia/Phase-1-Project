{
 "cells": [
  {
   "cell_type": "markdown",
   "metadata": {},
   "source": [
    "# Aviation Accidents Python Analysis\n",
    "## Project Goal\n",
    "My project aims to determine whether the aviation business would be a good new venture for the company.\n",
    "## Data Source\n",
    "My data comes from [kaggle](https://www.kaggle.com/datasets/khsamaha/aviation-accident-database-synopses/data) by the NTSB aviation accident database containing information about civil aviation accidents and selected incidents within the United States and some countries.\n",
    "## Step 1: Importing libraries and loading Data"
   ]
  },
  {
   "cell_type": "code",
   "execution_count": 8,
   "metadata": {},
   "outputs": [],
   "source": [
    "# Import data analysis libraries\n",
    "import pandas as pd\n",
    "import numpy as np\n",
    "from matplotlib import pyplot as plt\n",
    "from numbers import Number\n",
    "import seaborn as sns\n",
    "\n",
    "from warnings import filterwarnings\n",
    "filterwarnings(\"ignore\")"
   ]
  },
  {
   "cell_type": "markdown",
   "metadata": {},
   "source": [
    "## Read AviationData.csv.zip into a pandas DataFrame \n",
    "   I used pandas to create the DataFrame named `df`, containing the data from the dataset in file AviationData.csv.zip.\n",
    "## Step 2: Initial Data Exploration"
   ]
  },
  {
   "cell_type": "code",
   "execution_count": 24,
   "metadata": {},
   "outputs": [
    {
     "name": "stdout",
     "output_type": "stream",
     "text": [
      "         Event.Id Investigation.Type Accident.Number  Event.Date  \\\n",
      "0  20001218X45444           Accident      SEA87LA080  1948-10-24   \n",
      "1  20001218X45447           Accident      LAX94LA336  1962-07-19   \n",
      "2  20061025X01555           Accident      NYC07LA005  1974-08-30   \n",
      "3  20001218X45448           Accident      LAX96LA321  1977-06-19   \n",
      "4  20041105X01764           Accident      CHI79FA064  1979-08-02   \n",
      "\n",
      "          Location        Country Latitude Longitude Airport.Code  \\\n",
      "0  MOOSE CREEK, ID  United States      NaN       NaN          NaN   \n",
      "1   BRIDGEPORT, CA  United States      NaN       NaN          NaN   \n",
      "2    Saltville, VA  United States  36.9222  -81.8781          NaN   \n",
      "3       EUREKA, CA  United States      NaN       NaN          NaN   \n",
      "4       Canton, OH  United States      NaN       NaN          NaN   \n",
      "\n",
      "  Airport.Name  ... Purpose.of.flight Air.carrier Total.Fatal.Injuries  \\\n",
      "0          NaN  ...          Personal         NaN                  2.0   \n",
      "1          NaN  ...          Personal         NaN                  4.0   \n",
      "2          NaN  ...          Personal         NaN                  3.0   \n",
      "3          NaN  ...          Personal         NaN                  2.0   \n",
      "4          NaN  ...          Personal         NaN                  1.0   \n",
      "\n",
      "  Total.Serious.Injuries Total.Minor.Injuries Total.Uninjured  \\\n",
      "0                    0.0                  0.0             0.0   \n",
      "1                    0.0                  0.0             0.0   \n",
      "2                    NaN                  NaN             NaN   \n",
      "3                    0.0                  0.0             0.0   \n",
      "4                    2.0                  NaN             0.0   \n",
      "\n",
      "  Weather.Condition  Broad.phase.of.flight   Report.Status Publication.Date  \n",
      "0               UNK                 Cruise  Probable Cause              NaN  \n",
      "1               UNK                Unknown  Probable Cause       19-09-1996  \n",
      "2               IMC                 Cruise  Probable Cause       26-02-2007  \n",
      "3               IMC                 Cruise  Probable Cause       12-09-2000  \n",
      "4               VMC               Approach  Probable Cause       16-04-1980  \n",
      "\n",
      "[5 rows x 31 columns]\n"
     ]
    }
   ],
   "source": [
    "#Read dataset\n",
    "df = pd.read_csv('./AviationData.csv.zip', encoding = 'latin1')\n",
    "print(df.head()) # Check the first 5 rows\n",
    "assert type(df) == pd.DataFrame"
   ]
  },
  {
   "cell_type": "code",
   "execution_count": 25,
   "metadata": {},
   "outputs": [
    {
     "name": "stdout",
     "output_type": "stream",
     "text": [
      "<class 'pandas.core.frame.DataFrame'>\n",
      "RangeIndex: 88889 entries, 0 to 88888\n",
      "Data columns (total 31 columns):\n",
      " #   Column                  Non-Null Count  Dtype  \n",
      "---  ------                  --------------  -----  \n",
      " 0   Event.Id                88889 non-null  object \n",
      " 1   Investigation.Type      88889 non-null  object \n",
      " 2   Accident.Number         88889 non-null  object \n",
      " 3   Event.Date              88889 non-null  object \n",
      " 4   Location                88837 non-null  object \n",
      " 5   Country                 88663 non-null  object \n",
      " 6   Latitude                34382 non-null  object \n",
      " 7   Longitude               34373 non-null  object \n",
      " 8   Airport.Code            50249 non-null  object \n",
      " 9   Airport.Name            52790 non-null  object \n",
      " 10  Injury.Severity         87889 non-null  object \n",
      " 11  Aircraft.damage         85695 non-null  object \n",
      " 12  Aircraft.Category       32287 non-null  object \n",
      " 13  Registration.Number     87572 non-null  object \n",
      " 14  Make                    88826 non-null  object \n",
      " 15  Model                   88797 non-null  object \n",
      " 16  Amateur.Built           88787 non-null  object \n",
      " 17  Number.of.Engines       82805 non-null  float64\n",
      " 18  Engine.Type             81812 non-null  object \n",
      " 19  FAR.Description         32023 non-null  object \n",
      " 20  Schedule                12582 non-null  object \n",
      " 21  Purpose.of.flight       82697 non-null  object \n",
      " 22  Air.carrier             16648 non-null  object \n",
      " 23  Total.Fatal.Injuries    77488 non-null  float64\n",
      " 24  Total.Serious.Injuries  76379 non-null  float64\n",
      " 25  Total.Minor.Injuries    76956 non-null  float64\n",
      " 26  Total.Uninjured         82977 non-null  float64\n",
      " 27  Weather.Condition       84397 non-null  object \n",
      " 28  Broad.phase.of.flight   61724 non-null  object \n",
      " 29  Report.Status           82508 non-null  object \n",
      " 30  Publication.Date        75118 non-null  object \n",
      "dtypes: float64(5), object(26)\n",
      "memory usage: 21.0+ MB\n",
      "None\n",
      "(88889, 31)\n",
      "Total records: 88889\n",
      "Columns: ['Event.Id', 'Investigation.Type', 'Accident.Number', 'Event.Date', 'Location', 'Country', 'Latitude', 'Longitude', 'Airport.Code', 'Airport.Name', 'Injury.Severity', 'Aircraft.damage', 'Aircraft.Category', 'Registration.Number', 'Make', 'Model', 'Amateur.Built', 'Number.of.Engines', 'Engine.Type', 'FAR.Description', 'Schedule', 'Purpose.of.flight', 'Air.carrier', 'Total.Fatal.Injuries', 'Total.Serious.Injuries', 'Total.Minor.Injuries', 'Total.Uninjured', 'Weather.Condition', 'Broad.phase.of.flight', 'Report.Status', 'Publication.Date']\n"
     ]
    }
   ],
   "source": [
    "# Checking dataset information and shape\n",
    "print(df.info()) #Checking basic info\n",
    "print(df.shape)\n",
    "\n",
    "#checking total accidents and columns\n",
    "print(f\"Total records: {len(df)}\")\n",
    "print(f\"Columns: {df.columns.tolist()}\")"
   ]
  },
  {
   "cell_type": "markdown",
   "metadata": {},
   "source": [
    "## Step 3: Data Cleaning\n",
    "From an overlook of my data some columns are not applicable in our data analysis so dropping those columns would be as start."
   ]
  },
  {
   "cell_type": "code",
   "execution_count": 26,
   "metadata": {
    "scrolled": true
   },
   "outputs": [
    {
     "name": "stdout",
     "output_type": "stream",
     "text": [
      "<class 'pandas.core.frame.DataFrame'>\n",
      "RangeIndex: 88889 entries, 0 to 88888\n",
      "Data columns (total 24 columns):\n",
      " #   Column                  Non-Null Count  Dtype  \n",
      "---  ------                  --------------  -----  \n",
      " 0   Event.Id                88889 non-null  object \n",
      " 1   Event.Date              88889 non-null  object \n",
      " 2   Location                88837 non-null  object \n",
      " 3   Country                 88663 non-null  object \n",
      " 4   Latitude                34382 non-null  object \n",
      " 5   Longitude               34373 non-null  object \n",
      " 6   Airport.Code            50249 non-null  object \n",
      " 7   Airport.Name            52790 non-null  object \n",
      " 8   Injury.Severity         87889 non-null  object \n",
      " 9   Aircraft.damage         85695 non-null  object \n",
      " 10  Aircraft.Category       32287 non-null  object \n",
      " 11  Make                    88826 non-null  object \n",
      " 12  Model                   88797 non-null  object \n",
      " 13  Amateur.Built           88787 non-null  object \n",
      " 14  Number.of.Engines       82805 non-null  float64\n",
      " 15  Engine.Type             81812 non-null  object \n",
      " 16  Purpose.of.flight       82697 non-null  object \n",
      " 17  Air.carrier             16648 non-null  object \n",
      " 18  Total.Fatal.Injuries    77488 non-null  float64\n",
      " 19  Total.Serious.Injuries  76379 non-null  float64\n",
      " 20  Total.Minor.Injuries    76956 non-null  float64\n",
      " 21  Total.Uninjured         82977 non-null  float64\n",
      " 22  Weather.Condition       84397 non-null  object \n",
      " 23  Broad.phase.of.flight   61724 non-null  object \n",
      "dtypes: float64(5), object(19)\n",
      "memory usage: 16.3+ MB\n",
      "None\n",
      "(88889, 24)\n"
     ]
    }
   ],
   "source": [
    "#Drop irrelevant columns\n",
    "columns_to_drop = ['Investigation.Type', 'Accident.Number', 'Report.Status', 'Publication.Date', 'Aircraft.Damage', 'Air.Carrier', \n",
    "    'Schedule', 'FAR.Description', 'Registration.Number' ]\n",
    "df = df.drop(columns=columns_to_drop, errors='ignore')  # Ignore if columns don't exist\n",
    "print(df.info())\n",
    "print(df.shape)"
   ]
  },
  {
   "cell_type": "markdown",
   "metadata": {},
   "source": [
    "Dropping rows with some critical missing values."
   ]
  },
  {
   "cell_type": "code",
   "execution_count": 39,
   "metadata": {},
   "outputs": [
    {
     "name": "stdout",
     "output_type": "stream",
     "text": [
      "(77391, 24)\n",
      "<class 'pandas.core.frame.DataFrame'>\n",
      "Int64Index: 77391 entries, 0 to 88888\n",
      "Data columns (total 24 columns):\n",
      " #   Column                  Non-Null Count  Dtype  \n",
      "---  ------                  --------------  -----  \n",
      " 0   Event.Id                77391 non-null  object \n",
      " 1   Event.Date              77391 non-null  object \n",
      " 2   Location                77353 non-null  object \n",
      " 3   Country                 77176 non-null  object \n",
      " 4   Latitude                25094 non-null  object \n",
      " 5   Longitude               25095 non-null  object \n",
      " 6   Airport.Code            43006 non-null  object \n",
      " 7   Airport.Name            45351 non-null  object \n",
      " 8   Injury.Severity         76412 non-null  object \n",
      " 9   Aircraft.damage         74707 non-null  object \n",
      " 10  Aircraft.Category       28540 non-null  object \n",
      " 11  Make                    77391 non-null  object \n",
      " 12  Model                   77391 non-null  object \n",
      " 13  Amateur.Built           77358 non-null  object \n",
      " 14  Number.of.Engines       72149 non-null  float64\n",
      " 15  Engine.Type             71249 non-null  object \n",
      " 16  Purpose.of.flight       72524 non-null  object \n",
      " 17  Air.carrier             16195 non-null  object \n",
      " 18  Total.Fatal.Injuries    77391 non-null  float64\n",
      " 19  Total.Serious.Injuries  77391 non-null  float64\n",
      " 20  Total.Minor.Injuries    74437 non-null  float64\n",
      " 21  Total.Uninjured         74400 non-null  float64\n",
      " 22  Weather.Condition       73257 non-null  object \n",
      " 23  Broad.phase.of.flight   51026 non-null  object \n",
      "dtypes: float64(5), object(19)\n",
      "memory usage: 14.8+ MB\n",
      "None\n"
     ]
    }
   ],
   "source": [
    "# Drop rows with critical missing values (e.g., no aircraft model or date)\n",
    "df = df.dropna(subset=['Make', 'Model', 'Event.Date', 'Total.Fatal.Injuries'])\n",
    "\n",
    "# Fill numerical missing values (e.g., injuries) with 0\n",
    "df['Total.Fatal.Injuries'] = df['Total.Fatal.Injuries'].fillna(0)\n",
    "df['Total.Serious.Injuries'] = df['Total.Serious.Injuries'].fillna(0)\n",
    "print(df.shape)\n",
    "print(df.info())"
   ]
  },
  {
   "cell_type": "code",
   "execution_count": 40,
   "metadata": {},
   "outputs": [
    {
     "name": "stdout",
     "output_type": "stream",
     "text": [
      "22\n"
     ]
    }
   ],
   "source": [
    "# Check for duplicate rows\n",
    "print(df.duplicated().sum())"
   ]
  },
  {
   "cell_type": "markdown",
   "metadata": {},
   "source": [
    "I am not removing the duplicates because they are not significantly large in the dataset.\n",
    "\n",
    "Convert `Event.Date` to datetime format for time-based analysis. I will be doing an analysis using this later on."
   ]
  },
  {
   "cell_type": "code",
   "execution_count": 45,
   "metadata": {},
   "outputs": [
    {
     "name": "stdout",
     "output_type": "stream",
     "text": [
      "(77391, 24)\n"
     ]
    }
   ],
   "source": [
    "df['Event.Date'] = pd.to_datetime(df['Event.Date'], errors='coerce')\n",
    "df = df.dropna(subset=['Event.Date'])  # Drop rows with invalid dates\n",
    "print(df.shape)"
   ]
  },
  {
   "cell_type": "code",
   "execution_count": 46,
   "metadata": {
    "scrolled": true
   },
   "outputs": [
    {
     "name": "stdout",
     "output_type": "stream",
     "text": [
      "         Event.Id Event.Date         Location        Country Latitude  \\\n",
      "0  20001218X45444 1948-10-24  MOOSE CREEK, ID  United States      NaN   \n",
      "1  20001218X45447 1962-07-19   BRIDGEPORT, CA  United States      NaN   \n",
      "2  20061025X01555 1974-08-30    Saltville, VA  United States  36.9222   \n",
      "3  20001218X45448 1977-06-19       EUREKA, CA  United States      NaN   \n",
      "4  20041105X01764 1979-08-02       Canton, OH  United States      NaN   \n",
      "\n",
      "  Longitude Airport.Code Airport.Name Injury.Severity Aircraft.damage  ...  \\\n",
      "0       NaN          NaN          NaN        Fatal(2)       Destroyed  ...   \n",
      "1       NaN          NaN          NaN        Fatal(4)       Destroyed  ...   \n",
      "2  -81.8781          NaN          NaN        Fatal(3)       Destroyed  ...   \n",
      "3       NaN          NaN          NaN        Fatal(2)       Destroyed  ...   \n",
      "4       NaN          NaN          NaN        Fatal(1)       Destroyed  ...   \n",
      "\n",
      "  Number.of.Engines    Engine.Type Purpose.of.flight Air.carrier  \\\n",
      "0               1.0  Reciprocating          Personal         NaN   \n",
      "1               1.0  Reciprocating          Personal         NaN   \n",
      "2               1.0  Reciprocating          Personal         NaN   \n",
      "3               1.0  Reciprocating          Personal         NaN   \n",
      "4               NaN            NaN          Personal         NaN   \n",
      "\n",
      "   Total.Fatal.Injuries Total.Serious.Injuries Total.Minor.Injuries  \\\n",
      "0                   2.0                    0.0                  0.0   \n",
      "1                   4.0                    0.0                  0.0   \n",
      "2                   3.0                    0.0                  NaN   \n",
      "3                   2.0                    0.0                  0.0   \n",
      "4                   1.0                    2.0                  NaN   \n",
      "\n",
      "  Total.Uninjured  Weather.Condition  Broad.phase.of.flight  \n",
      "0             0.0                UNK                 Cruise  \n",
      "1             0.0                UNK                Unknown  \n",
      "2             NaN                IMC                 Cruise  \n",
      "3             0.0                IMC                 Cruise  \n",
      "4             0.0                VMC               Approach  \n",
      "\n",
      "[5 rows x 24 columns]\n",
      "Remaining records: 77391\n",
      "Missing values per column:\n",
      "Event.Id                      0\n",
      "Event.Date                    0\n",
      "Location                     38\n",
      "Country                     215\n",
      "Latitude                  52297\n",
      "Longitude                 52296\n",
      "Airport.Code              34385\n",
      "Airport.Name              32040\n",
      "Injury.Severity             979\n",
      "Aircraft.damage            2684\n",
      "Aircraft.Category         48851\n",
      "Make                          0\n",
      "Model                         0\n",
      "Amateur.Built                33\n",
      "Number.of.Engines          5242\n",
      "Engine.Type                6142\n",
      "Purpose.of.flight          4867\n",
      "Air.carrier               61196\n",
      "Total.Fatal.Injuries          0\n",
      "Total.Serious.Injuries        0\n",
      "Total.Minor.Injuries       2954\n",
      "Total.Uninjured            2991\n",
      "Weather.Condition          4134\n",
      "Broad.phase.of.flight     26365\n",
      "dtype: int64\n"
     ]
    }
   ],
   "source": [
    "# Check cleaned data\n",
    "print(df.head())\n",
    "print(f\"Remaining records: {len(df)}\")\n",
    "print(f\"Missing values per column:\\n{df.isnull().sum()}\")"
   ]
  },
  {
   "cell_type": "markdown",
   "metadata": {},
   "source": [
    "## Step 3: Data Analysis\n",
    "\n",
    "Now that the data is cleaned, let’s perform Exploratory Data Analysis (EDA) to uncover patterns, trends, and actionable insights for my company's aviation business. We’ll use Pandas, Matplotlib, and Seaborn for analysis and visualizations.\n",
    "\n",
    "###  1: Total accidents over time\n",
    "We need to find out the distribution of the accidents as the years progressed, this is to assume that as the technoloogy changed it also applied to the aviation business and could have caused significant differences in number of accidents. This also accounts for 2020 due to COVID having low numbers due to the curfews and regulated or reduced travelling."
   ]
  },
  {
   "cell_type": "code",
   "execution_count": 49,
   "metadata": {},
   "outputs": [
    {
     "data": {
      "image/png": "[encoded data removed]",
      "text/plain": [
       "<Figure size 864x576 with 1 Axes>"
      ]
     },
     "metadata": {
      "needs_background": "light"
     },
     "output_type": "display_data"
    }
   ],
   "source": [
    "# Extract year from 'Event.Date'\n",
    "df['Year'] = pd.to_datetime(df['Event.Date']).dt.year\n",
    "\n",
    "# Plot accidents per year\n",
    "plt.figure(figsize=(12, 8))\n",
    "sns.countplot(data=df, x='Year', palette='viridis')\n",
    "plt.title('Aviation Accidents per Year (1982-2023)')\n",
    "plt.xticks(rotation=90)\n",
    "plt.show()"
   ]
  },
  {
   "cell_type": "markdown",
   "metadata": {},
   "source": [
    "In 2020 the reductions were low but not as significant aa in the early 2000s."
   ]
  },
  {
   "cell_type": "markdown",
   "metadata": {},
   "source": [
    "I am using a pie chart to make a comparison on the severity of fatality in percantage. Did more people die than getting injured.\n",
    "\n",
    "Create a new column to classify accidents (e.g., fatal vs. non-fatal)."
   ]
  },
  {
   "cell_type": "code",
   "execution_count": 54,
   "metadata": {},
   "outputs": [
    {
     "data": {
      "image/png": "[encoded data removed]",
      "text/plain": [
       "<Figure size 432x432 with 1 Axes>"
      ]
     },
     "metadata": {},
     "output_type": "display_data"
    }
   ],
   "source": [
    "df['Is.Fatal'] = np.where(df['Total.Fatal.Injuries'] > 0, 1, 0)\n",
    "\n",
    "# Pie chart of fatal vs. non-fatal accidents\n",
    "fatal_counts = df['Is.Fatal'].value_counts()\n",
    "plt.figure(figsize=(6, 6))\n",
    "plt.pie(fatal_counts, labels=['Non-Fatal', 'Fatal'], autopct='%1.1f%%', colors=['lightgreen', 'salmon'])\n",
    "plt.title('Proportion of Fatal Accidents')\n",
    "plt.show()"
   ]
  },
  {
   "cell_type": "markdown",
   "metadata": {},
   "source": [
    "## 2: Aircraft-Specific Risk Analysis\n",
    "### (i). Top 10 Safest Aircraft (Lowest Accident Rates)"
   ]
  },
  {
   "cell_type": "code",
   "execution_count": 56,
   "metadata": {},
   "outputs": [
    {
     "name": "stdout",
     "output_type": "stream",
     "text": [
      "                    Make   Model  Total_Accidents  Fatal_Accidents  Fatal_Rate\n",
      "4191       Burkhart Grob    G103               13                0         0.0\n",
      "12574              PIPER     J5A               10                0         0.0\n",
      "1941                BELL  OH-58A               14                0         0.0\n",
      "1910                BELL    47D1               10                0         0.0\n",
      "4354              CESSNA    172A               10                0         0.0\n",
      "14337              Raven    S55A               11                0         0.0\n",
      "4392              CESSNA    180H               23                0         0.0\n",
      "4393              CESSNA    180J               22                0         0.0\n",
      "12261     North American   AT-6G               11                0         0.0\n",
      "11612  Mcdonnell Douglas   MD-80               14                0         0.0\n"
     ]
    }
   ],
   "source": [
    "# Group by aircraft make/model and count accidents\n",
    "aircraft_safety = df.groupby(['Make', 'Model']).agg(\n",
    "    Total_Accidents=('Is.Fatal', 'count'),\n",
    "    Fatal_Accidents=('Is.Fatal', 'sum')\n",
    ").reset_index()\n",
    "\n",
    "# Calculate fatal accident rate\n",
    "aircraft_safety['Fatal_Rate'] = (aircraft_safety['Fatal_Accidents'] / aircraft_safety['Total_Accidents']) * 100\n",
    "\n",
    "# Filter aircraft with at least 10 recorded accidents (for statistical significance)\n",
    "significant_aircraft = aircraft_safety[aircraft_safety['Total_Accidents'] >= 10]\n",
    "\n",
    "# Top 10 safest (lowest fatal rate)\n",
    "top10_safest = significant_aircraft.sort_values('Fatal_Rate').head(10)\n",
    "print(top10_safest)"
   ]
  },
  {
   "cell_type": "markdown",
   "metadata": {},
   "source": [
    "We are identifying the plane models with lower fatalities which will be better for leasing or buying.\n",
    "\n",
    "### (ii): Top 10 Riskiest Aircraft (Highest Fatal Rates)"
   ]
  },
  {
   "cell_type": "code",
   "execution_count": 57,
   "metadata": {},
   "outputs": [
    {
     "name": "stdout",
     "output_type": "stream",
     "text": [
      "                 Make     Model  Total_Accidents  Fatal_Accidents  Fatal_Rate\n",
      "14538        Robinson      R-44               23               18   78.260870\n",
      "11790      Mitsubishi  MU-2B-60               25               19   76.000000\n",
      "14137        ROBINSON    R44 II               11                8   72.727273\n",
      "14546        Robinson  R22 Beta               14               10   71.428571\n",
      "5461           Cessna       525               10                7   70.000000\n",
      "12813           PIPER      PA31               20               14   70.000000\n",
      "724    Aero Commander     680FL               10                7   70.000000\n",
      "5388           Cessna      310H               10                7   70.000000\n",
      "10605         Learjet       35A               20               14   70.000000\n",
      "12793           PIPER      PA25               32               22   68.750000\n"
     ]
    }
   ],
   "source": [
    "# Top 10 riskiest (highest fatal rate)\n",
    "top10_risky = significant_aircraft.sort_values('Fatal_Rate', ascending=False).head(10)\n",
    "print(top10_risky)"
   ]
  },
  {
   "cell_type": "markdown",
   "metadata": {},
   "source": [
    "These are the airplanes prone to higher fatality rate which would reduce customer trust and cost higher for insurance. "
   ]
  },
  {
   "cell_type": "markdown",
   "metadata": {},
   "source": [
    "## 3: Accident Causes & Mitigation\n",
    "\n",
    "### (i):  Most Common Causes of Accidents\n",
    "Are most accidents due to pilot error, mechanical failure, or weather?"
   ]
  },
  {
   "cell_type": "code",
   "execution_count": 60,
   "metadata": {},
   "outputs": [
    {
     "data": {
      "image/png": "[encoded data removed]",
      "text/plain": [
       "<Figure size 720x432 with 1 Axes>"
      ]
     },
     "metadata": {
      "needs_background": "light"
     },
     "output_type": "display_data"
    }
   ],
   "source": [
    "# Plot top 10 accident causes\n",
    "plt.figure(figsize=(10, 6))\n",
    "df['Weather.Condition'].value_counts().head(10).plot(kind='barh', color='skyblue')\n",
    "plt.title('Top 10 Causes of Aviation Accidents')\n",
    "plt.xlabel('Number of Accidents')\n",
    "plt.show()"
   ]
  },
  {
   "cell_type": "markdown",
   "metadata": {},
   "source": [
    "### (ii): Weather-Related Accidents\n",
    "\n",
    "Which months/seasons pose the highest weather risks?"
   ]
  },
  {
   "cell_type": "code",
   "execution_count": 61,
   "metadata": {},
   "outputs": [
    {
     "ename": "ValueError",
     "evalue": "min() arg is an empty sequence",
     "output_type": "error",
     "traceback": [
      "\u001b[1;31m---------------------------------------------------------------------------\u001b[0m",
      "\u001b[1;31mValueError\u001b[0m                                Traceback (most recent call last)",
      "\u001b[1;32m<ipython-input-61-422ac6984d87>\u001b[0m in \u001b[0;36m<module>\u001b[1;34m\u001b[0m\n\u001b[0;32m      4\u001b[0m \u001b[1;31m# Plot by season\u001b[0m\u001b[1;33m\u001b[0m\u001b[1;33m\u001b[0m\u001b[1;33m\u001b[0m\u001b[0m\n\u001b[0;32m      5\u001b[0m \u001b[0mweather_accidents\u001b[0m\u001b[1;33m[\u001b[0m\u001b[1;34m'Month'\u001b[0m\u001b[1;33m]\u001b[0m \u001b[1;33m=\u001b[0m \u001b[0mpd\u001b[0m\u001b[1;33m.\u001b[0m\u001b[0mto_datetime\u001b[0m\u001b[1;33m(\u001b[0m\u001b[0mweather_accidents\u001b[0m\u001b[1;33m[\u001b[0m\u001b[1;34m'Event.Date'\u001b[0m\u001b[1;33m]\u001b[0m\u001b[1;33m)\u001b[0m\u001b[1;33m.\u001b[0m\u001b[0mdt\u001b[0m\u001b[1;33m.\u001b[0m\u001b[0mmonth\u001b[0m\u001b[1;33m\u001b[0m\u001b[1;33m\u001b[0m\u001b[0m\n\u001b[1;32m----> 6\u001b[1;33m \u001b[0msns\u001b[0m\u001b[1;33m.\u001b[0m\u001b[0mcountplot\u001b[0m\u001b[1;33m(\u001b[0m\u001b[0mdata\u001b[0m\u001b[1;33m=\u001b[0m\u001b[0mweather_accidents\u001b[0m\u001b[1;33m,\u001b[0m \u001b[0mx\u001b[0m\u001b[1;33m=\u001b[0m\u001b[1;34m'Month'\u001b[0m\u001b[1;33m,\u001b[0m \u001b[0mpalette\u001b[0m\u001b[1;33m=\u001b[0m\u001b[1;34m'Blues'\u001b[0m\u001b[1;33m)\u001b[0m\u001b[1;33m\u001b[0m\u001b[1;33m\u001b[0m\u001b[0m\n\u001b[0m\u001b[0;32m      7\u001b[0m \u001b[0mplt\u001b[0m\u001b[1;33m.\u001b[0m\u001b[0mtitle\u001b[0m\u001b[1;33m(\u001b[0m\u001b[1;34m'Weather-Related Accidents by Month'\u001b[0m\u001b[1;33m)\u001b[0m\u001b[1;33m\u001b[0m\u001b[1;33m\u001b[0m\u001b[0m\n\u001b[0;32m      8\u001b[0m \u001b[0mplt\u001b[0m\u001b[1;33m.\u001b[0m\u001b[0mshow\u001b[0m\u001b[1;33m(\u001b[0m\u001b[1;33m)\u001b[0m\u001b[1;33m\u001b[0m\u001b[1;33m\u001b[0m\u001b[0m\n",
      "\u001b[1;32m~\\Anaconda3\\envs\\learn-env\\lib\\site-packages\\seaborn\\_decorators.py\u001b[0m in \u001b[0;36minner_f\u001b[1;34m(*args, **kwargs)\u001b[0m\n\u001b[0;32m     44\u001b[0m             )\n\u001b[0;32m     45\u001b[0m         \u001b[0mkwargs\u001b[0m\u001b[1;33m.\u001b[0m\u001b[0mupdate\u001b[0m\u001b[1;33m(\u001b[0m\u001b[1;33m{\u001b[0m\u001b[0mk\u001b[0m\u001b[1;33m:\u001b[0m \u001b[0marg\u001b[0m \u001b[1;32mfor\u001b[0m \u001b[0mk\u001b[0m\u001b[1;33m,\u001b[0m \u001b[0marg\u001b[0m \u001b[1;32min\u001b[0m \u001b[0mzip\u001b[0m\u001b[1;33m(\u001b[0m\u001b[0msig\u001b[0m\u001b[1;33m.\u001b[0m\u001b[0mparameters\u001b[0m\u001b[1;33m,\u001b[0m \u001b[0margs\u001b[0m\u001b[1;33m)\u001b[0m\u001b[1;33m}\u001b[0m\u001b[1;33m)\u001b[0m\u001b[1;33m\u001b[0m\u001b[1;33m\u001b[0m\u001b[0m\n\u001b[1;32m---> 46\u001b[1;33m         \u001b[1;32mreturn\u001b[0m \u001b[0mf\u001b[0m\u001b[1;33m(\u001b[0m\u001b[1;33m**\u001b[0m\u001b[0mkwargs\u001b[0m\u001b[1;33m)\u001b[0m\u001b[1;33m\u001b[0m\u001b[1;33m\u001b[0m\u001b[0m\n\u001b[0m\u001b[0;32m     47\u001b[0m     \u001b[1;32mreturn\u001b[0m \u001b[0minner_f\u001b[0m\u001b[1;33m\u001b[0m\u001b[1;33m\u001b[0m\u001b[0m\n\u001b[0;32m     48\u001b[0m \u001b[1;33m\u001b[0m\u001b[0m\n",
      "\u001b[1;32m~\\Anaconda3\\envs\\learn-env\\lib\\site-packages\\seaborn\\categorical.py\u001b[0m in \u001b[0;36mcountplot\u001b[1;34m(x, y, hue, data, order, hue_order, orient, color, palette, saturation, dodge, ax, **kwargs)\u001b[0m\n\u001b[0;32m   3583\u001b[0m         \u001b[1;32mraise\u001b[0m \u001b[0mValueError\u001b[0m\u001b[1;33m(\u001b[0m\u001b[1;34m\"Cannot pass values for both `x` and `y`\"\u001b[0m\u001b[1;33m)\u001b[0m\u001b[1;33m\u001b[0m\u001b[1;33m\u001b[0m\u001b[0m\n\u001b[0;32m   3584\u001b[0m \u001b[1;33m\u001b[0m\u001b[0m\n\u001b[1;32m-> 3585\u001b[1;33m     plotter = _CountPlotter(\n\u001b[0m\u001b[0;32m   3586\u001b[0m         \u001b[0mx\u001b[0m\u001b[1;33m,\u001b[0m \u001b[0my\u001b[0m\u001b[1;33m,\u001b[0m \u001b[0mhue\u001b[0m\u001b[1;33m,\u001b[0m \u001b[0mdata\u001b[0m\u001b[1;33m,\u001b[0m \u001b[0morder\u001b[0m\u001b[1;33m,\u001b[0m \u001b[0mhue_order\u001b[0m\u001b[1;33m,\u001b[0m\u001b[1;33m\u001b[0m\u001b[1;33m\u001b[0m\u001b[0m\n\u001b[0;32m   3587\u001b[0m         \u001b[0mestimator\u001b[0m\u001b[1;33m,\u001b[0m \u001b[0mci\u001b[0m\u001b[1;33m,\u001b[0m \u001b[0mn_boot\u001b[0m\u001b[1;33m,\u001b[0m \u001b[0munits\u001b[0m\u001b[1;33m,\u001b[0m \u001b[0mseed\u001b[0m\u001b[1;33m,\u001b[0m\u001b[1;33m\u001b[0m\u001b[1;33m\u001b[0m\u001b[0m\n",
      "\u001b[1;32m~\\Anaconda3\\envs\\learn-env\\lib\\site-packages\\seaborn\\categorical.py\u001b[0m in \u001b[0;36m__init__\u001b[1;34m(self, x, y, hue, data, order, hue_order, estimator, ci, n_boot, units, seed, orient, color, palette, saturation, errcolor, errwidth, capsize, dodge)\u001b[0m\n\u001b[0;32m   1584\u001b[0m         self.establish_variables(x, y, hue, data, orient,\n\u001b[0;32m   1585\u001b[0m                                  order, hue_order, units)\n\u001b[1;32m-> 1586\u001b[1;33m         \u001b[0mself\u001b[0m\u001b[1;33m.\u001b[0m\u001b[0mestablish_colors\u001b[0m\u001b[1;33m(\u001b[0m\u001b[0mcolor\u001b[0m\u001b[1;33m,\u001b[0m \u001b[0mpalette\u001b[0m\u001b[1;33m,\u001b[0m \u001b[0msaturation\u001b[0m\u001b[1;33m)\u001b[0m\u001b[1;33m\u001b[0m\u001b[1;33m\u001b[0m\u001b[0m\n\u001b[0m\u001b[0;32m   1587\u001b[0m         \u001b[0mself\u001b[0m\u001b[1;33m.\u001b[0m\u001b[0mestimate_statistic\u001b[0m\u001b[1;33m(\u001b[0m\u001b[0mestimator\u001b[0m\u001b[1;33m,\u001b[0m \u001b[0mci\u001b[0m\u001b[1;33m,\u001b[0m \u001b[0mn_boot\u001b[0m\u001b[1;33m,\u001b[0m \u001b[0mseed\u001b[0m\u001b[1;33m)\u001b[0m\u001b[1;33m\u001b[0m\u001b[1;33m\u001b[0m\u001b[0m\n\u001b[0;32m   1588\u001b[0m \u001b[1;33m\u001b[0m\u001b[0m\n",
      "\u001b[1;32m~\\Anaconda3\\envs\\learn-env\\lib\\site-packages\\seaborn\\categorical.py\u001b[0m in \u001b[0;36mestablish_colors\u001b[1;34m(self, color, palette, saturation)\u001b[0m\n\u001b[0;32m    317\u001b[0m         \u001b[1;31m# Determine the gray color to use for the lines framing the plot\u001b[0m\u001b[1;33m\u001b[0m\u001b[1;33m\u001b[0m\u001b[1;33m\u001b[0m\u001b[0m\n\u001b[0;32m    318\u001b[0m         \u001b[0mlight_vals\u001b[0m \u001b[1;33m=\u001b[0m \u001b[1;33m[\u001b[0m\u001b[0mcolorsys\u001b[0m\u001b[1;33m.\u001b[0m\u001b[0mrgb_to_hls\u001b[0m\u001b[1;33m(\u001b[0m\u001b[1;33m*\u001b[0m\u001b[0mc\u001b[0m\u001b[1;33m)\u001b[0m\u001b[1;33m[\u001b[0m\u001b[1;36m1\u001b[0m\u001b[1;33m]\u001b[0m \u001b[1;32mfor\u001b[0m \u001b[0mc\u001b[0m \u001b[1;32min\u001b[0m \u001b[0mrgb_colors\u001b[0m\u001b[1;33m]\u001b[0m\u001b[1;33m\u001b[0m\u001b[1;33m\u001b[0m\u001b[0m\n\u001b[1;32m--> 319\u001b[1;33m         \u001b[0mlum\u001b[0m \u001b[1;33m=\u001b[0m \u001b[0mmin\u001b[0m\u001b[1;33m(\u001b[0m\u001b[0mlight_vals\u001b[0m\u001b[1;33m)\u001b[0m \u001b[1;33m*\u001b[0m \u001b[1;36m.6\u001b[0m\u001b[1;33m\u001b[0m\u001b[1;33m\u001b[0m\u001b[0m\n\u001b[0m\u001b[0;32m    320\u001b[0m         \u001b[0mgray\u001b[0m \u001b[1;33m=\u001b[0m \u001b[0mmpl\u001b[0m\u001b[1;33m.\u001b[0m\u001b[0mcolors\u001b[0m\u001b[1;33m.\u001b[0m\u001b[0mrgb2hex\u001b[0m\u001b[1;33m(\u001b[0m\u001b[1;33m(\u001b[0m\u001b[0mlum\u001b[0m\u001b[1;33m,\u001b[0m \u001b[0mlum\u001b[0m\u001b[1;33m,\u001b[0m \u001b[0mlum\u001b[0m\u001b[1;33m)\u001b[0m\u001b[1;33m)\u001b[0m\u001b[1;33m\u001b[0m\u001b[1;33m\u001b[0m\u001b[0m\n\u001b[0;32m    321\u001b[0m \u001b[1;33m\u001b[0m\u001b[0m\n",
      "\u001b[1;31mValueError\u001b[0m: min() arg is an empty sequence"
     ]
    }
   ],
   "source": []
  }
 ],
 "metadata": {
  "kernelspec": {
   "display_name": "Python (learn-env)",
   "language": "python",
   "name": "learn-env"
  },
  "language_info": {
   "codemirror_mode": {
    "name": "ipython",
    "version": 3
   },
   "file_extension": ".py",
   "mimetype": "text/x-python",
   "name": "python",
   "nbconvert_exporter": "python",
   "pygments_lexer": "ipython3",
   "version": "3.8.5"
  }
 },
 "nbformat": 4,
 "nbformat_minor": 4
}
